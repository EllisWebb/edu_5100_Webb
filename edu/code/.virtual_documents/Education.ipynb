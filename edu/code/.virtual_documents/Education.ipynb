


# Import pandas, numpy, and matplotlib
import pandas as pd
import numpy as np
import matplotlib.pyplot as plt

# seaborn is a data visualization library built on matplotlib
import seaborn as sns

# set the plotting style
sns.set_style("whitegrid")





edgap = pd.read_excel(
    '/Users/carterwebb/Desktop/5100_Foundation_Data/edu_5100_Webb/edu/data/EdGap_data.xlsx',
    dtype={'NCESSCH School ID': object}
)





#edu_info = pd.read_csv('/Users/carterwebb/Desktop/5100_Foundation_Data/edu_5100_Webb/edu/data/edu_raw.csv', encoding='unicode_escape')



!curl -L -o ccd_sch_029_1617_w_1a_11212017.csv 'https://www.dropbox.com/s/lkl5nvcdmwyoban/ccd_sch_029_1617_w_1a_11212017.csv?dl=0'


!ls


edu_info = pd.read_csv(
    "ccd_sch_029_1617_w_1a_11212017.csv", encoding="unicode_escape"
)


teacher = pd.read_excel(
    '/Users/carterwebb/Desktop/5100_Foundation_Data/edu_5100_Webb/edu/data/teacher_salary.xlsx',
)





print(edu_info)
print(edgap)





edgap.head()


edu_info.head()





pd.set_option('display.max_columns', None)

edu_info.head()


teacher.head(20)





edgap.info()





edu_info.info()











sns.pairplot(
    edgap.drop(columns="NCESSCH School ID")
);
plt.show()





fig = sns.pairplot(
    edgap.drop(columns="NCESSCH School ID"),
    kind="reg",
    plot_kws={
        "line_kws": {"color": "blue"},
        "scatter_kws": {"alpha": 0.5, "color": "k", "s": 7},
    },
)

for ax in fig.axes.flat:
    if ax.get_xlabel() == 'CT Median Household Income':
        ax.ticklabel_format(style='sci', axis='x', scilimits=(0,0))  # Apply scientific notation
    ax.set_xlabel(ax.get_xlabel(), fontsize=8, rotation=30, ha='right')  # X-axis label size and rotation
    ax.set_ylabel(ax.get_ylabel(), fontsize=8)  # Y-axis label size

    # Rotate x-axis tick labels
    plt.setp(ax.get_xticklabels(), rotation=30, ha='right')


plt.show()





fig = sns.pairplot(
    edgap.drop(columns="NCESSCH School ID"),
    y_vars=['School ACT average (or equivalent if SAT score)'],
    kind="reg",
    plot_kws={
        "line_kws": {"color": "blue"},
        "scatter_kws": {"alpha": 0.5, "color": "k", "s": 7},
    },
)

for ax in fig.axes.flat:
    if ax.get_xlabel() == 'CT Median Household Income':
        ax.ticklabel_format(style='sci', axis='x', scilimits=(0,0))  # Apply scientific notation
    ax.set_xlabel(ax.get_xlabel(), fontsize=8, rotation=30, ha='right')  # X-axis label size and rotation
    ax.set_ylabel(ax.get_ylabel(), fontsize=8)  # Y-axis label size

    # Rotate x-axis tick labels
    plt.setp(ax.get_xticklabels(), rotation=30, ha='right')

plt.show()











edu_info = edu_info[
    ['SCHOOL_YEAR', 'NCESSCH', 'LSTATE', 'LZIP', 'SCH_TYPE_TEXT', 'LEVEL', 'CHARTER_TEXT'
    ]
]


edu_info.head()





edgap = edgap.rename(
    columns={
        "NCESSCH School ID": "id",
        "CT Pct Adults with College Degree": "percent_college",
        "CT Unemployment Rate": "rate_unemployment",
        "CT Pct Childre In Married Couple Family": "percent_married",
        "CT Median Household Income": "median_income",
        "School ACT average (or equivalent if SAT score)": "average_act",
        "School Pct Free and Reduced Lunch": "percent_lunch",
    }
)


edu_info = edu_info.rename(
    columns={
        "SCHOOL_YEAR": "year",
        "NCESSCH": "id",
        "LSTATE": "state",
        "LZIP": "zip_code",
        "SCH_TYPE_TEXT": "school_type",
        "LEVEL": "school_level",
        "CHARTER_TEXT": "charter"
    }
)





edgap.head()


edu_info.head()











edu_info['id'] = edu_info['id'].astype('object')


edu_info.head()


edu_info.info()





df = edgap.merge(
    edu_info,
    how='left',
    on='id'
)


df.info()














df.describe()


df.select_dtypes(include=['number']).agg(['min', 'max']).round(2)





df.loc[df['percent_lunch'] < 0, 'percent_lunch'] = np.nan


df.loc[df['average_act'] < 1, 'average_act'] = np.nan





df.select_dtypes(include=['number']).agg(['min', 'max']).round(2)





df


df['school_type'].value_counts()


df['school_level'].value_counts()


df['charter'].value_counts()





df = df.loc[df['school_level'] == 'High']





df.duplicated().sum()





df.isna().sum().to_frame(name='Number of Missing Values')


percent_missing = df.isna().mean().round(4) * 100

percent_missing.to_frame(name='Percent Missing Values')





df['state'].value_counts()


df['state'].nunique()





import plotly.offline as po
import plotly.graph_objs as pg


layout = dict(
    geo={"scope": "usa"}, coloraxis_colorbar=dict(title="Number of Schools")
)

data = dict(
    type="choropleth",
    locations=df["state"].value_counts().index,
    locationmode="USA-states",
    z=df["state"].value_counts().values,
    coloraxis="coloraxis",
)

x = pg.Figure(data=[data], layout=layout)

po.iplot(x)








df = df.dropna(subset=['average_act'])


df.isna().sum().to_frame(name='Number of Missing Values')














predictor_variables = [
    'rate_unemployment',
    'percent_college',
    'percent_married',
    'median_income',
    'percent_lunch',
    'state',
    'charter'
]





from sklearn.experimental import enable_iterative_imputer
from sklearn.impute import IterativeImputer


imputer = IterativeImputer()





numerical_predictors = df[predictor_variables].select_dtypes(include='number').columns.to_list()

print(numerical_predictors)





imputer.fit(df.loc[:, numerical_predictors])





df.loc[:, numerical_predictors] = imputer.transform(df.loc[:, numerical_predictors])





df.isna().sum().to_frame(name='Number of Missing Values')


df.to_csv(
    'education_clean.csv',
    encoding='utf-8-sig',
    index=False
)






